{
  "nbformat": 4,
  "nbformat_minor": 0,
  "metadata": {
    "colab": {
      "provenance": [],
      "authorship_tag": "ABX9TyP9bykSLiTpn3zZXGrmPt5j",
      "include_colab_link": true
    },
    "kernelspec": {
      "name": "python3",
      "display_name": "Python 3"
    },
    "language_info": {
      "name": "python"
    }
  },
  "cells": [
    {
      "cell_type": "markdown",
      "metadata": {
        "id": "view-in-github",
        "colab_type": "text"
      },
      "source": [
        "<a href=\"https://colab.research.google.com/github/seyoung1230/data-structure-lab-2025/blob/master/Lec05.ipynb\" target=\"_parent\"><img src=\"https://colab.research.google.com/assets/colab-badge.svg\" alt=\"Open In Colab\"/></a>"
      ]
    },
    {
      "cell_type": "code",
      "source": [
        "class Stack:\n",
        "  def __init__(self):\n",
        "    self.items = []\n",
        "\n",
        "  def is_empty(self):\n",
        "    return self.items == []\n",
        "\n",
        "  def push(self, item):\n",
        "    self.items.append(item)\n",
        "\n",
        "  def pop(self):\n",
        "    return self.items.pop()\n",
        "\n",
        "  def peek(self):\n",
        "    return self.items[len(self.items) - 1]\n",
        "\n",
        "  def size(self):\n",
        "    return len(self.items)\n",
        "\n",
        "  def pop_all(self):\n",
        "    self.items.clear()\n",
        "\n",
        "s = Stack()\n",
        "print(s.is_empty())\n",
        "\n"
      ],
      "metadata": {
        "colab": {
          "base_uri": "https://localhost:8080/"
        },
        "id": "9QGvgtPU6GO_",
        "outputId": "854da9fa-4db0-4fbc-94dd-c2af4d965e14"
      },
      "execution_count": 14,
      "outputs": [
        {
          "output_type": "stream",
          "name": "stdout",
          "text": [
            "True\n"
          ]
        }
      ]
    },
    {
      "cell_type": "code",
      "source": [
        "def par_checker(symbol_string):\n",
        "    s = Stack()\n",
        "    balanced = True\n",
        "    index = 0\n",
        "\n",
        "    while index < len(symbol_string) and balanced:\n",
        "      symbol = symbol_string[index]\n",
        "\n",
        "      if symbol == \"(\":\n",
        "        s.push(symbol)\n",
        "      else:\n",
        "            if s.is_empty():\n",
        "                balanced = False\n",
        "            else:\n",
        "                s.pop()\n",
        "\n",
        "      index = index + 1\n",
        "\n",
        "    if balanced and s.is_empty():\n",
        "        return True\n",
        "    else:\n",
        "        return False"
      ],
      "metadata": {
        "id": "_TXND-jO-zLm"
      },
      "execution_count": 16,
      "outputs": []
    },
    {
      "cell_type": "code",
      "source": [
        "print(par_checker(\"((((()))))\"))"
      ],
      "metadata": {
        "colab": {
          "base_uri": "https://localhost:8080/"
        },
        "id": "ovPy9XwC--JU",
        "outputId": "45304231-85c6-4de5-8b29-53e9267f8886"
      },
      "execution_count": 15,
      "outputs": [
        {
          "output_type": "stream",
          "name": "stdout",
          "text": [
            "True\n"
          ]
        }
      ]
    }
  ]
}